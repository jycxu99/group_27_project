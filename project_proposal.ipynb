{
 "cells": [
  {
   "cell_type": "markdown",
   "metadata": {},
   "source": [
    "# Group 27 DSCI 100: Project Proposal\n",
    "\n",
    "### 1. Introduction:\n",
    "\n",
    "\n"
   ]
  },
  {
   "cell_type": "markdown",
   "metadata": {},
   "source": [
    "### 2. Tidy Data:\n",
    "\n",
    "Our data was The Global Health Observatory (GHO) data repository under World Health Organization (WHO): https://www.who.int/data/gho \n",
    "\n",
    "We combine GDP and Population Data taken from the World Bank: https://databank.worldbank.org/home.aspx"
   ]
  },
  {
   "cell_type": "code",
   "execution_count": 6,
   "metadata": {},
   "outputs": [
    {
     "name": "stderr",
     "output_type": "stream",
     "text": [
      "Warning message in file(filename, \"r\", encoding = encoding):\n",
      "“cannot open file 'tests_worksheet_09.R': No such file or directory”\n"
     ]
    },
    {
     "ename": "ERROR",
     "evalue": "Error in file(filename, \"r\", encoding = encoding): cannot open the connection\n",
     "output_type": "error",
     "traceback": [
      "Error in file(filename, \"r\", encoding = encoding): cannot open the connection\nTraceback:\n",
      "1. source(\"tests_worksheet_09.R\")",
      "2. file(filename, \"r\", encoding = encoding)"
     ]
    }
   ],
   "source": [
    "### Run this cell before continuing.\n",
    "library(tidyverse)\n",
    "library(testthat)\n",
    "library(digest)\n",
    "library(repr)\n",
    "library(tidymodels)\n",
    "library(cowplot)\n",
    "options(repr.matrix.max.rows = 6)\n",
    "source(\"tests_worksheet_09.R\")\n",
    "source('cleanup_worksheet_09.R')"
   ]
  },
  {
   "cell_type": "code",
   "execution_count": 15,
   "metadata": {},
   "outputs": [
    {
     "name": "stderr",
     "output_type": "stream",
     "text": [
      "Parsed with column specification:\n",
      "cols(\n",
      "  country = \u001b[31mcol_character()\u001b[39m,\n",
      "  year = \u001b[32mcol_double()\u001b[39m,\n",
      "  life_expectancy = \u001b[32mcol_double()\u001b[39m,\n",
      "  adult_mortality = \u001b[32mcol_double()\u001b[39m,\n",
      "  infant_deaths = \u001b[32mcol_double()\u001b[39m,\n",
      "  alcohol = \u001b[32mcol_double()\u001b[39m,\n",
      "  hepatitis_b = \u001b[32mcol_double()\u001b[39m,\n",
      "  measles = \u001b[32mcol_double()\u001b[39m,\n",
      "  bmi = \u001b[32mcol_double()\u001b[39m,\n",
      "  under_five_deaths = \u001b[32mcol_double()\u001b[39m,\n",
      "  polio = \u001b[32mcol_double()\u001b[39m,\n",
      "  health_expenditure = \u001b[32mcol_double()\u001b[39m,\n",
      "  diphtheria = \u001b[32mcol_double()\u001b[39m,\n",
      "  HIV_AIDS = \u001b[32mcol_double()\u001b[39m,\n",
      "  gdp = \u001b[32mcol_double()\u001b[39m,\n",
      "  population = \u001b[32mcol_double()\u001b[39m\n",
      ")\n",
      "\n"
     ]
    }
   ],
   "source": [
    "# import data from data folder\n",
    "\n",
    "life_expectancy <- read_csv(\"data/life_expectancy.csv\")"
   ]
  },
  {
   "cell_type": "markdown",
   "metadata": {},
   "source": [
    "### 3. Graphs:\n",
    "\n",
    "1. Generate new variables and calculate:\n",
    "    - GDP per capita (GDP / Population)\n",
    "    - country classification (based on GDP per capita): Low-income (<4,000), Medium-income \n",
    "(4,000-13,000), High-income (13,000+)\n",
    "    - Health expenditure per capita (Health expenditure / population)\n",
    "    - Health expenditure as a % of GDP (health expenditure / GDP)\n",
    "    \n",
    "2. Create a table\n",
    "\n",
    "3. Generate Graphs:\n",
    "    - GDP per capita on X axis, Health expenditure per capita on Y axis (color with country classification)\n",
    "    - Health expenditure per capita on x-axis, mortality outcomes on y axis (to life_expectancy, infant_deaths, under_five_deaths\n",
    "    - Health expenditure per capita on x-axis, health outcomes on y axis (to polio, measles, hiv_aids)"
   ]
  },
  {
   "cell_type": "code",
   "execution_count": null,
   "metadata": {},
   "outputs": [],
   "source": []
  }
 ],
 "metadata": {
  "kernelspec": {
   "display_name": "R",
   "language": "R",
   "name": "ir"
  },
  "language_info": {
   "codemirror_mode": "r",
   "file_extension": ".r",
   "mimetype": "text/x-r-source",
   "name": "R",
   "pygments_lexer": "r",
   "version": "4.0.0"
  }
 },
 "nbformat": 4,
 "nbformat_minor": 4
}
